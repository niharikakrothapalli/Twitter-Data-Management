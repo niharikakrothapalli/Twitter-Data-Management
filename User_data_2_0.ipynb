{
  "cells": [
    {
      "cell_type": "code",
      "execution_count": null,
      "id": "2c1e12a5",
      "metadata": {
        "id": "2c1e12a5"
      },
      "outputs": [],
      "source": [
        "import json\n",
        "import mysql.connector\n",
        "from datetime import datetime"
      ]
    },
    {
      "cell_type": "code",
      "execution_count": null,
      "id": "45df459f",
      "metadata": {
        "id": "45df459f",
        "outputId": "02df9070-5618-4a30-8beb-93ce093b05f4"
      },
      "outputs": [
        {
          "name": "stdout",
          "output_type": "stream",
          "text": [
            "Connection Sucessfull\n"
          ]
        }
      ],
      "source": [
        "db=mysql.connector.connect(host=\"localhost\",user=\"root\",password=\"Yuigahama@009\",database=\"Twitter_user_data\")\n",
        "if db:\n",
        "    print(\"Connection Sucessfull\")\n",
        "else:\n",
        "    print(\"Connection Failed\")\n",
        "    "
      ]
    },
    {
      "cell_type": "code",
      "execution_count": null,
      "id": "ee3e0a04",
      "metadata": {
        "id": "ee3e0a04"
      },
      "outputs": [],
      "source": [
        "mycursor=db.cursor(buffered=True)"
      ]
    },
    {
      "cell_type": "code",
      "execution_count": null,
      "id": "2a5dae38",
      "metadata": {
        "id": "2a5dae38",
        "outputId": "dd503d1d-4a75-4563-b1c0-e72a36aa3633"
      },
      "outputs": [
        {
          "name": "stdout",
          "output_type": "stream",
          "text": [
            "The Table User already exists dropping the table........\n",
            "\n",
            "The Table User has been created\n"
          ]
        }
      ],
      "source": [
        "mycursor.execute(\"SHOW Tables Like 'user';\")\n",
        "result=mycursor.fetchone()\n",
        "\n",
        "\n",
        "create_table=\"\"\"CREATE Table user\n",
        "(\n",
        "Id BIGINT,\n",
        "Id_str VARCHAR(255),\n",
        "Name VARCHAR(255),\n",
        "Screen_Name VARCHAR(255),\n",
        "Location VARCHAR(255),\n",
        "Description VARCHAR(255),\n",
        "Verified VARCHAR(5),\n",
        "Followers_Count BIGINT,\n",
        "Favorites_Count BIGINT,\n",
        "Created_At DATETIME,\n",
        "Friends_Count BIGINT,\n",
        "PRIMARY KEY(Id),\n",
        "INDEX(Id,Screen_Name)\n",
        ");\n",
        "\"\"\"\n",
        "\n",
        "if result:\n",
        "    mycursor.execute(\"DROP Table user;\")\n",
        "    print(\"The Table User already exists dropping the table........\\n\")\n",
        "mycursor.execute(create_table)\n",
        "print(\"The Table User has been created\")"
      ]
    },
    {
      "cell_type": "code",
      "execution_count": null,
      "id": "db9a63de",
      "metadata": {
        "id": "db9a63de"
      },
      "outputs": [],
      "source": [
        "def insert_data_mysql(record,mycursor):\n",
        "    insert_query=\"\"\"\n",
        "        INSERT INTO user(\n",
        "        Id,\n",
        "        Id_str,\n",
        "        Name,\n",
        "        Screen_Name,\n",
        "        Location,\n",
        "        Description,\n",
        "        Verified,\n",
        "        Followers_Count,\n",
        "        Favorites_Count,\n",
        "        Created_At,\n",
        "        Friends_Count) VALUES ({},\"{}\",\"{}\",\"{}\",\"{}\",\"{}\",'{}',{},{},'{}',{})\n",
        "        ;\"\"\".format(*record)\n",
        "    mycursor.execute(insert_query)\n",
        "    db.commit()"
      ]
    },
    {
      "cell_type": "code",
      "execution_count": null,
      "id": "aa0ceddd",
      "metadata": {
        "id": "aa0ceddd"
      },
      "outputs": [],
      "source": [
        "def update_mysql(record,mycursor):\n",
        "    update_query=\"\"\"\n",
        "    UPDATE user\n",
        "    SET\n",
        "    Location=\"{}\",\n",
        "    Description=\"{}\",\n",
        "    Verified='{}',\n",
        "    Followers_Count={},\n",
        "    Favorites_Count={},\n",
        "    Friends_Count={}\n",
        "    ;\"\"\".format(record[4],record[5],record[6],record[7],record[8],record[10])\n",
        "    mycursor.execute(update_query)\n",
        "    db.commit()"
      ]
    },
    {
      "cell_type": "code",
      "execution_count": null,
      "id": "fc6f5e36",
      "metadata": {
        "id": "fc6f5e36"
      },
      "outputs": [],
      "source": [
        "tweets=[ ]\n",
        "with open('corona-out-3.json','r') as r1:\n",
        "        json_data=json.load(r1)\n",
        "        tweets=json_data"
      ]
    },
    {
      "cell_type": "code",
      "execution_count": null,
      "id": "fc01f57e",
      "metadata": {
        "id": "fc01f57e"
      },
      "outputs": [],
      "source": [
        "\n",
        "with open('corona-out-2','r') as r2:\n",
        "    json_data=json.load(r2)\n",
        "    tweets=json_data"
      ]
    },
    {
      "cell_type": "code",
      "execution_count": null,
      "id": "1b7fce7e",
      "metadata": {
        "id": "1b7fce7e"
      },
      "outputs": [],
      "source": [
        "def escapefromstring(s):\n",
        "    s_new = \"\"\n",
        "    if s==None:\n",
        "        return s\n",
        "    else:\n",
        "        for i in s:\n",
        "            if (i == \"\\'\" ) or (i == \"\\\"\"):\n",
        "                s_new+=\"\\\\\"\n",
        "            s_new+=i\n",
        "    return s_new"
      ]
    },
    {
      "cell_type": "code",
      "execution_count": null,
      "id": "1d8348b2",
      "metadata": {
        "id": "1d8348b2",
        "outputId": "20429c2f-c7f3-48ad-be04-7597930b5021"
      },
      "outputs": [
        {
          "data": {
            "text/plain": [
              "\"Cape Town  \\\\/\\\\'\\\\'V\\\\'\\\\'\\\\'\\\\'\\\\'\\\\'V\\\\\""
            ]
          },
          "execution_count": 26,
          "metadata": {},
          "output_type": "execute_result"
        }
      ],
      "source": [
        "escapefromstring(\"Cape Town  \\/''V''''''V\\\\\")"
      ]
    },
    {
      "cell_type": "code",
      "execution_count": null,
      "id": "fbffed2e",
      "metadata": {
        "id": "fbffed2e"
      },
      "outputs": [],
      "source": [
        "record=[tweets[1]['user']['id'],tweets[1]['user']['id_str'],tweets[1]['user']['name'],\n",
        "        tweets[1]['user']['screen_name'],tweets[1]['user']['location'],\n",
        "        escapefromstring(tweets[1]['user']['description']),tweets[1]['user']['verified'],\n",
        "        tweets[1]['user']['followers_count'],tweets[1]['user']['favourites_count'],\n",
        "        datetime.strftime(datetime.strptime(tweets[1]['user']['created_at'],'%a %b %d %H:%M:%S +0000 %Y'), '%Y-%m-%d %H:%M:%S'),\n",
        "        tweets[1]['user']['friends_count']]"
      ]
    },
    {
      "cell_type": "code",
      "execution_count": null,
      "id": "5ddbc125",
      "metadata": {
        "id": "5ddbc125",
        "outputId": "68afb9d7-4136-4e38-f30c-e355ed5382e0"
      },
      "outputs": [
        {
          "data": {
            "text/plain": [
              "101916"
            ]
          },
          "execution_count": 14,
          "metadata": {},
          "output_type": "execute_result"
        }
      ],
      "source": [
        "len(tweets)"
      ]
    },
    {
      "cell_type": "code",
      "execution_count": null,
      "id": "08fd5369",
      "metadata": {
        "id": "08fd5369",
        "outputId": "27ae89e6-eac6-42ec-8667-98569fcdb1d4"
      },
      "outputs": [
        {
          "data": {
            "text/plain": [
              "2"
            ]
          },
          "execution_count": 10,
          "metadata": {},
          "output_type": "execute_result"
        }
      ],
      "source": [
        "len(tweets)"
      ]
    },
    {
      "cell_type": "code",
      "execution_count": null,
      "id": "f9457710",
      "metadata": {
        "id": "f9457710"
      },
      "outputs": [],
      "source": [
        "for i in range(len(tweets)):\n",
        "        records=[tweets[i]['user']['id'],tweets[i]['user']['id_str'],escapefromstring(tweets[i]['user']['name']),\n",
        "            escapefromstring(tweets[i]['user']['screen_name']),escapefromstring(tweets[i]['user']['location']),\n",
        "            escapefromstring(tweets[i]['user']['description']),tweets[i]['user']['verified'],\n",
        "            tweets[i]['user']['followers_count'],tweets[i]['user']['favourites_count'],\n",
        "            datetime.strftime(datetime.strptime(tweets[i]['user']['created_at'],'%a %b %d %H:%M:%S +0000 %Y'),'%Y-%m-%d %H:%M:%S'),\n",
        "            tweets[i]['user']['friends_count']]\n",
        "        #print(records)\n",
        "        mycursor.execute(\"SELECT id FROM user WHERE id={}\".format(records[0]))\n",
        "        if not mycursor.fetchone():\n",
        "            try:\n",
        "                insert_data_mysql(records,mycursor)\n",
        "                print(\"Twitter User Data Added\")\n",
        "            except:\n",
        "                print(\"Error Occured sdhakfsdkfhjbfmabfksdhgfasfbnflhsdjflasbfaslkgh\")\n",
        "                print(records)\n",
        "        #    update_mysql(records,mycursor)\n",
        "        #    print(\"Twitter User Update Data Added\")\n",
        "        #else:\n",
        "        #insert_data_mysql(records,mycursor)\n",
        "        \n",
        "        if (tweets[i]['text'].startswith('RT')):\n",
        "            if 'retweeted_status' in tweets[i]:\n",
        "            #if tweets[i]['retweeted_status']!=None:\n",
        "                retweet_data=[tweets[i]['retweeted_status']['user']['id'],\n",
        "                              tweets[i]['retweeted_status']['user']['id_str'],\n",
        "                              escapefromstring(tweets[i]['retweeted_status']['user']['name']),                              escapefromstring(tweets[i]['retweeted_status']['user']['screen_name']),\n",
        "                              escapefromstring(tweets[i]['retweeted_status']['user']['location']),\n",
        "                              escapefromstring(tweets[i]['retweeted_status']['user']['description']),\n",
        "                              tweets[i]['retweeted_status']['user']['verified'],\n",
        "                              tweets[i]['retweeted_status']['user']['followers_count'],\n",
        "                              tweets[i]['retweeted_status']['user']['favourites_count'],\n",
        "                              datetime.strftime(datetime.strptime(tweets[i]['retweeted_status']['user']['created_at'],'%a %b %d %H:%M:%S +0000 %Y'),'%Y-%m-%d %H:%M:%S'),\n",
        "                              tweets[i]['retweeted_status']['user']['friends_count']]    \n",
        "                mycursor.execute(\"SELECT id FROM user WHERE id={}\".format(retweet_data[0]))\n",
        "                #print(\"Retweet Data addedd too\")\n",
        "                #print(retweet_data)\n",
        "                if not mycursor.fetchone():\n",
        "                    try:\n",
        "                        insert_data_mysql(retweet_data,mycursor)\n",
        "                        print(\"Retweet User Data added too\")\n",
        "                    except:\n",
        "                        print(records)\n",
        "\n",
        "\n",
        "                        \n",
        "                #    update_mysql(retweet_data,mycursor)\n",
        "                #    print(\"Retweeter User Update Data added too\")\n",
        "                #else:\n",
        "                      \n",
        "                      \n",
        "                      \n",
        "    \n",
        "            "
      ]
    },
    {
      "cell_type": "code",
      "execution_count": null,
      "id": "33ca425b",
      "metadata": {
        "id": "33ca425b"
      },
      "outputs": [],
      "source": [
        "def search_id(record):\n",
        "    search_query=\"\"\"\n",
        "    SELECT * FROM user WHERE id={};\"\"\".format(record)\n",
        "    mycursor.execute(search_query)"
      ]
    },
    {
      "cell_type": "code",
      "execution_count": null,
      "id": "efc6953e",
      "metadata": {
        "id": "efc6953e"
      },
      "outputs": [],
      "source": [
        "def search_name(record):\n",
        "    search_query=\"\"\"\n",
        "    SELECT * FROM user WHERE screen_name='{}';\"\"\".format(record)\n",
        "    mycursor.execute(search_query)"
      ]
    },
    {
      "cell_type": "code",
      "execution_count": null,
      "id": "4cc96a69",
      "metadata": {
        "id": "4cc96a69"
      },
      "outputs": [],
      "source": [
        "mycursor.execute(\"SELECT * FROM user Where Id=568857221\")"
      ]
    },
    {
      "cell_type": "code",
      "execution_count": null,
      "id": "0851a007",
      "metadata": {
        "id": "0851a007",
        "outputId": "f95cb669-a5e4-4649-bb4c-4e84be3f2d6a"
      },
      "outputs": [
        {
          "data": {
            "text/plain": [
              "[]"
            ]
          },
          "execution_count": 34,
          "metadata": {},
          "output_type": "execute_result"
        }
      ],
      "source": [
        "mycursor.fetchall()"
      ]
    },
    {
      "cell_type": "code",
      "execution_count": null,
      "id": "794a325b",
      "metadata": {
        "id": "794a325b"
      },
      "outputs": [],
      "source": [
        "def Order_10():\n",
        "    mycursor.execute(\"SELECT * FROM user ORDER BY followers_count DESC LIMIT 10;\")\n",
        "    return mycursor.fetchall()"
      ]
    },
    {
      "cell_type": "code",
      "execution_count": null,
      "id": "d8526338",
      "metadata": {
        "id": "d8526338",
        "outputId": "c921aa7d-4f2a-469b-8f4c-65c7761d30d3"
      },
      "outputs": [
        {
          "data": {
            "text/plain": [
              "[(18839785,\n",
              "  '18839785',\n",
              "  'Narendra Modi',\n",
              "  'narendramodi',\n",
              "  'India',\n",
              "  'Prime Minister of India',\n",
              "  'True',\n",
              "  55786179,\n",
              "  0,\n",
              "  datetime.datetime(2009, 1, 10, 17, 18, 56),\n",
              "  2364),\n",
              " (145125358,\n",
              "  '145125358',\n",
              "  'Amitabh Bachchan',\n",
              "  'SrBachchan',\n",
              "  'Mumbai, India',\n",
              "  '\"तुमने हमें पूज पूज कर पत्थर कर डाला ; वे जो हमपर जुमले कसते हैं हमें ज़िंदा तो समझते हैं \"~  हरिवंश राय  बच्चन',\n",
              "  'True',\n",
              "  41596464,\n",
              "  75,\n",
              "  datetime.datetime(2010, 5, 18, 5, 16, 47),\n",
              "  1833),\n",
              " (101311381,\n",
              "  '101311381',\n",
              "  'Shah Rukh Khan',\n",
              "  'iamsrk',\n",
              "  'None',\n",
              "  'None',\n",
              "  'True',\n",
              "  40026760,\n",
              "  32,\n",
              "  datetime.datetime(2010, 1, 2, 20, 55, 43),\n",
              "  77),\n",
              " (471741741,\n",
              "  '471741741',\n",
              "  'PMO India',\n",
              "  'PMOIndia',\n",
              "  'India',\n",
              "  'Office of the Prime Minister of India',\n",
              "  'True',\n",
              "  34461808,\n",
              "  0,\n",
              "  datetime.datetime(2012, 1, 23, 6, 24, 52),\n",
              "  486),\n",
              " (113419517,\n",
              "  '113419517',\n",
              "  'Hrithik Roshan',\n",
              "  'iHrithik',\n",
              "  'None',\n",
              "  'Man on mission- to live the best life possible come what may.',\n",
              "  'True',\n",
              "  28170371,\n",
              "  172,\n",
              "  datetime.datetime(2010, 2, 11, 18, 6, 33),\n",
              "  90),\n",
              " (405427035,\n",
              "  '405427035',\n",
              "  'Arvind Kejriwal',\n",
              "  'ArvindKejriwal',\n",
              "  'India',\n",
              "  'सब इंसान बराबर हैं, चाहे वो किसी धर्म या जाति के हों। हमें ऐसा भारत बनाना है जहाँ सभी धर्म और जाति के लोगों में भाईचारा और मोहब्बत हो, न कि नफ़रत और बैर हो।',\n",
              "  'True',\n",
              "  18335920,\n",
              "  618,\n",
              "  datetime.datetime(2011, 11, 5, 9, 15, 8),\n",
              "  221),\n",
              " (14293310,\n",
              "  '14293310',\n",
              "  'TIME',\n",
              "  'TIME',\n",
              "  'None',\n",
              "  'Breaking news and current events from around the globe. Hosted by TIME staff.',\n",
              "  'True',\n",
              "  17057740,\n",
              "  536,\n",
              "  datetime.datetime(2008, 4, 3, 13, 54, 30),\n",
              "  494),\n",
              " (69183155,\n",
              "  '69183155',\n",
              "  'detikcom',\n",
              "  'detikcom',\n",
              "  'Jakarta, Indonesia',\n",
              "  'Official Twitter of http://www.detik.com. redaksi@detik.com | promosi@detik.com | Android: http://detik.com/android iPhone: http://detik.com/iphone',\n",
              "  'True',\n",
              "  15927868,\n",
              "  313,\n",
              "  datetime.datetime(2009, 8, 27, 3, 3, 5),\n",
              "  28),\n",
              " (62513246,\n",
              "  '62513246',\n",
              "  'J.K. Rowling',\n",
              "  'jk_rowling',\n",
              "  'Scotland',\n",
              "  'Writer sometimes known as Robert Galbraith',\n",
              "  'True',\n",
              "  14608046,\n",
              "  27353,\n",
              "  datetime.datetime(2009, 8, 3, 13, 23, 45),\n",
              "  721),\n",
              " (186712788,\n",
              "  '186712788',\n",
              "  'jose marie viceral',\n",
              "  'vicegandako',\n",
              "  'Earth',\n",
              "  'Supermodel turned actress turned horse',\n",
              "  'True',\n",
              "  13527555,\n",
              "  135,\n",
              "  datetime.datetime(2010, 9, 4, 5, 12, 31),\n",
              "  517)]"
            ]
          },
          "execution_count": 6,
          "metadata": {},
          "output_type": "execute_result"
        }
      ],
      "source": [
        "Order_10()"
      ]
    },
    {
      "cell_type": "code",
      "execution_count": null,
      "id": "f4339c0b",
      "metadata": {
        "id": "f4339c0b"
      },
      "outputs": [],
      "source": [
        ""
      ]
    }
  ],
  "metadata": {
    "kernelspec": {
      "display_name": "Python 3 (ipykernel)",
      "language": "python",
      "name": "python3"
    },
    "language_info": {
      "codemirror_mode": {
        "name": "ipython",
        "version": 3
      },
      "file_extension": ".py",
      "mimetype": "text/x-python",
      "name": "python",
      "nbconvert_exporter": "python",
      "pygments_lexer": "ipython3",
      "version": "3.9.7"
    },
    "colab": {
      "name": "User_data 2.0.ipynb",
      "provenance": [],
      "collapsed_sections": []
    }
  },
  "nbformat": 4,
  "nbformat_minor": 5
}