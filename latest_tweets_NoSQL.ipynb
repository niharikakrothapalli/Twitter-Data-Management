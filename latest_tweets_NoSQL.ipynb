{
  "cells": [
    {
      "cell_type": "code",
      "execution_count": null,
      "id": "9353eebd",
      "metadata": {
        "id": "9353eebd",
        "outputId": "d91877b6-f092-4ebc-a8e6-373cc5a8adf2"
      },
      "outputs": [
        {
          "name": "stdout",
          "output_type": "stream",
          "text": [
            "Requirement already satisfied: pymongo in c:\\users\\pratiksha sharma\\pymongo-venv\\lib\\site-packages (4.1.1)\n"
          ]
        },
        {
          "name": "stderr",
          "output_type": "stream",
          "text": [
            "WARNING: You are using pip version 19.2.3, however version 22.0.4 is available.\n",
            "You should consider upgrading via the 'python -m pip install --upgrade pip' command.\n"
          ]
        }
      ],
      "source": [
        "!pip install pymongo"
      ]
    },
    {
      "cell_type": "code",
      "execution_count": null,
      "id": "8aeb9853",
      "metadata": {
        "id": "8aeb9853",
        "outputId": "db0812f8-6dd6-41a6-b6b4-a354618fc9a9"
      },
      "outputs": [
        {
          "name": "stdout",
          "output_type": "stream",
          "text": [
            "pymongo==4.1.1\n"
          ]
        }
      ],
      "source": [
        "!pip freeze"
      ]
    },
    {
      "cell_type": "code",
      "execution_count": null,
      "id": "10092473",
      "metadata": {
        "id": "10092473",
        "outputId": "27e3bd18-7d49-4c9f-8571-20d77be90196"
      },
      "outputs": [
        {
          "ename": "ModuleNotFoundError",
          "evalue": "No module named 'pymongo'",
          "output_type": "error",
          "traceback": [
            "\u001b[1;31m---------------------------------------------------------------------------\u001b[0m",
            "\u001b[1;31mModuleNotFoundError\u001b[0m                       Traceback (most recent call last)",
            "\u001b[1;32m<ipython-input-3-020dc23a187b>\u001b[0m in \u001b[0;36m<module>\u001b[1;34m\u001b[0m\n\u001b[1;32m----> 1\u001b[1;33m \u001b[1;32mimport\u001b[0m \u001b[0mpymongo\u001b[0m\u001b[1;33m\u001b[0m\u001b[1;33m\u001b[0m\u001b[0m\n\u001b[0m\u001b[0;32m      2\u001b[0m \u001b[1;32mimport\u001b[0m \u001b[0mjson\u001b[0m\u001b[1;33m\u001b[0m\u001b[1;33m\u001b[0m\u001b[0m\n\u001b[0;32m      3\u001b[0m \u001b[1;32mfrom\u001b[0m \u001b[0mdatetime\u001b[0m \u001b[1;32mimport\u001b[0m \u001b[0mdatetime\u001b[0m\u001b[1;33m\u001b[0m\u001b[1;33m\u001b[0m\u001b[0m\n\u001b[0;32m      4\u001b[0m \u001b[1;32mimport\u001b[0m \u001b[0mpandas\u001b[0m \u001b[1;32mas\u001b[0m \u001b[0mpd\u001b[0m\u001b[1;33m\u001b[0m\u001b[1;33m\u001b[0m\u001b[0m\n",
            "\u001b[1;31mModuleNotFoundError\u001b[0m: No module named 'pymongo'"
          ]
        }
      ],
      "source": [
        "import pymongo\n",
        "import json\n",
        "from datetime import datetime\n",
        "import pandas as pd"
      ]
    },
    {
      "cell_type": "code",
      "execution_count": null,
      "id": "5e34deb8",
      "metadata": {
        "id": "5e34deb8",
        "outputId": "da9ba945-559e-4cc8-a52c-79c5670ac11f"
      },
      "outputs": [
        {
          "name": "stdout",
          "output_type": "stream",
          "text": [
            "db exists. Will be deleted...\n",
            "Database connection established\n"
          ]
        }
      ],
      "source": [
        "client = pymongo.MongoClient(\"mongodb://localhost:27017/\") \n",
        "dbnames = client.list_database_names()\n",
        "if \"TweetsDB\" in dbnames:\n",
        "    print(\"db exists. Will be deleted...\")\n",
        "    client.drop_database(\"TweetsDB\")\n",
        "db = client[\"TweetsDB\"]\n",
        "col_names = db.list_collection_names()\n",
        "if \"Tweets_data\" in col_names:\n",
        "        print(\"Tweets Collection exists. Will be deleted...\")\n",
        "        db.Tweets_data.drop()\n",
        "tweets_coll = db[\"Tweets_data\"]\n",
        "print(\"Database connection established\")"
      ]
    },
    {
      "cell_type": "code",
      "execution_count": null,
      "id": "e66bc876",
      "metadata": {
        "id": "e66bc876"
      },
      "outputs": [],
      "source": [
        "def insert_into_mongo(dict):\n",
        "    db.tweets_coll.insert_one(dict)"
      ]
    },
    {
      "cell_type": "code",
      "execution_count": null,
      "id": "c0b5afa2",
      "metadata": {
        "id": "c0b5afa2"
      },
      "outputs": [],
      "source": [
        "with open('C:/Users/TEMP/Downloads/corona-out-3/corona-out-3', \"r\") as read_file:\n",
        "        json_data = json.load(read_file)"
      ]
    },
    {
      "cell_type": "code",
      "execution_count": null,
      "id": "8dfaa6c3",
      "metadata": {
        "id": "8dfaa6c3"
      },
      "outputs": [],
      "source": [
        "def find_in_collection(tid):\n",
        "    record = None\n",
        "    record = db.tweets_coll.find({'TweetID': tid})\n",
        "    if record:\n",
        "        return True\n",
        "    return False"
      ]
    },
    {
      "cell_type": "code",
      "execution_count": null,
      "id": "b8b1d2f4",
      "metadata": {
        "id": "b8b1d2f4"
      },
      "outputs": [],
      "source": [
        "def increment_retweet_count(tid):\n",
        "    db.tweet_coll.update({'TweetID': tid}, {'$inc': {'Retweet_Count': 1}})"
      ]
    },
    {
      "cell_type": "code",
      "execution_count": null,
      "id": "b1bfc19d",
      "metadata": {
        "id": "b1bfc19d"
      },
      "outputs": [],
      "source": [
        "if tweet_id already in database:\n",
        "\t\tcontinue\n",
        "\tif retweeted_status is not null:\n",
        "\t\torig_tweet = find tweetid: retweeted_status[tweetid]\n",
        "\t\tif orig_tweet is not null:\n",
        "\t\t\tupdate orig_tweet (Retweet_Count += 1)\n",
        "\t\telse:\n",
        "\t\t\tdict = {\n",
        "\t\t\t\t...\n",
        "\t\t\t\t'TweetId': ['retweeted_status']['id']\n",
        "\t\t\t\t...\n",
        "\t\t\t\t'Retweet_Count' : 1\n",
        "\t\t\t\t...\n",
        "\t\t\t}"
      ]
    },
    {
      "cell_type": "code",
      "execution_count": null,
      "id": "b1643fa7",
      "metadata": {
        "id": "b1643fa7"
      },
      "outputs": [],
      "source": [
        "try:\n",
        "    if json_data[0]['text'].startswith('RT'):\n",
        "        if json_data[0]['retweeted_status']!=None:\n",
        "            RetweetID = json_data[0]['retweeted_status']['id']\n",
        "    else:\n",
        "        RetweetID = 0\n",
        "\n",
        "\n",
        "    dict = {\n",
        "        'created_at':datetime.strftime(datetime.strptime(json_data[0]['created_at'],'%a %b %d %H:%M:%S +0000 %Y'),'%Y-%m-%d %H:%M:%S'),\n",
        "        'TweetID':json_data[0]['id'],\n",
        "        'Id_str':json_data[0]['id_str'],\n",
        "        'Text':json_data[0]['text'],\n",
        "        'Hashtag':list(map(lambda x: x[\"text\"], json_data[0]['entities']['hashtags'])),\n",
        "        'UserID':json_data[0]['user']['id'],\n",
        "        'Retweet_Count': 0,\n",
        "        'Retweet_ID':RetweetID\n",
        "    }\n",
        "\n",
        "    insert_into_mongo(dict)\n",
        "\n",
        "except:\n",
        "    continue"
      ]
    },
    {
      "cell_type": "code",
      "execution_count": null,
      "id": "838514fb",
      "metadata": {
        "id": "838514fb"
      },
      "outputs": [],
      "source": [
        "for i in range(1:len(json_data)):\n",
        "    \n",
        "    try:\n",
        "        \n",
        "        if find_in_collection(json_data[i]['id']):\n",
        "            continue\n",
        "            \n",
        "        if json_data[i]['text'].startswith('RT'):\n",
        "            if json_data[i]['retweeted_status']!=None:\n",
        "                RetweetID = json_data[i]['retweeted_status']['id']\n",
        "                if find_in_collection(RetweetID):\n",
        "                    increment_retweet_count(RetweetID)\n",
        "                else:\n",
        "                    dict = {\n",
        "                    'created_at':datetime.strftime(datetime.strptime(json_data[i]['retweeted_status']['created_at'],'%a %b %d %H:%M:%S +0000 %Y'),'%Y-%m-%d %H:%M:%S'),\n",
        "                    'TweetID':json_data[i]['retweeted_status']['id'],\n",
        "                    'Id_str':json_data[i]['retweeted_status']['id_str'],\n",
        "                    'Text':json_data[i]['retweeted_status']['text'],\n",
        "                    'Hashtag':list(map(lambda x: x[\"text\"], json_data[i]['retweeted_status']['entities']['hashtags'])),\n",
        "                    'UserID':json_data[i]['retweeted_status']['user']['id'],\n",
        "                    'Retweet_Count': 1,\n",
        "                    'Retweet_ID': 0\n",
        "                    }\n",
        "\n",
        "                insert_into_mongo(dict)\n",
        "        else:\n",
        "            RetweetID = 0\n",
        "          \n",
        "    \n",
        "        dict = {\n",
        "            'created_at':datetime.strftime(datetime.strptime(json_data[i]['created_at'],'%a %b %d %H:%M:%S +0000 %Y'),'%Y-%m-%d %H:%M:%S'),\n",
        "            'TweetID':json_data[i]['id'],\n",
        "            'Id_str':json_data[i]['id_str'],\n",
        "            'Text':json_data[i]['text'],\n",
        "            'Hashtag':list(map(lambda x: x[\"text\"], json_data[i]['entities']['hashtags'])),\n",
        "            'UserID':json_data[i]['user']['id'],\n",
        "            'Retweet_Count': 0,\n",
        "            'Retweet_ID':RetweetID\n",
        "        }\n",
        "    \n",
        "        insert_into_mongo(dict)                   \n",
        "            \n",
        "    \n",
        "    except:\n",
        "        continue"
      ]
    },
    {
      "cell_type": "code",
      "execution_count": null,
      "id": "e78bb9ad",
      "metadata": {
        "id": "e78bb9ad",
        "outputId": "52e7cf37-b98f-4a9e-8886-17753b721a7e"
      },
      "outputs": [
        {
          "data": {
            "text/html": [
              "<div>\n",
              "<style scoped>\n",
              "    .dataframe tbody tr th:only-of-type {\n",
              "        vertical-align: middle;\n",
              "    }\n",
              "\n",
              "    .dataframe tbody tr th {\n",
              "        vertical-align: top;\n",
              "    }\n",
              "\n",
              "    .dataframe thead th {\n",
              "        text-align: right;\n",
              "    }\n",
              "</style>\n",
              "<table border=\"1\" class=\"dataframe\">\n",
              "  <thead>\n",
              "    <tr style=\"text-align: right;\">\n",
              "      <th></th>\n",
              "      <th>_id</th>\n",
              "      <th>created_at</th>\n",
              "      <th>TweetID</th>\n",
              "      <th>Id_str</th>\n",
              "      <th>Text</th>\n",
              "      <th>Hashtag</th>\n",
              "      <th>UserID</th>\n",
              "      <th>Retweet_Count</th>\n",
              "      <th>Retweet_ID</th>\n",
              "    </tr>\n",
              "  </thead>\n",
              "  <tbody>\n",
              "    <tr>\n",
              "      <th>0</th>\n",
              "      <td>62687eeae183d99280c61177</td>\n",
              "      <td>2017-09-14 13:48:06</td>\n",
              "      <td>1254022772558368768</td>\n",
              "      <td>1254022772558368768</td>\n",
              "      <td>RT @BJP4India: India’s war with Corona is ongo...</td>\n",
              "      <td>[]</td>\n",
              "      <td>908326492718764034</td>\n",
              "      <td>340</td>\n",
              "      <td>1253949413191344128</td>\n",
              "    </tr>\n",
              "    <tr>\n",
              "      <th>1</th>\n",
              "      <td>62687eeae183d99280c61178</td>\n",
              "      <td>2019-12-16 18:59:53</td>\n",
              "      <td>1254022772877131777</td>\n",
              "      <td>1254022772877131777</td>\n",
              "      <td>RT @schrodingerk42: @ozkan_yalim @DurmusYillma...</td>\n",
              "      <td>[]</td>\n",
              "      <td>1206650133976408064</td>\n",
              "      <td>72</td>\n",
              "      <td>1252576316135739392</td>\n",
              "    </tr>\n",
              "    <tr>\n",
              "      <th>2</th>\n",
              "      <td>62687eeae183d99280c61179</td>\n",
              "      <td>2013-03-07 07:21:32</td>\n",
              "      <td>1254022773149589510</td>\n",
              "      <td>1254022773149589510</td>\n",
              "      <td>RT @MonstaXEurope: VIDEO | 25.04.20\\n\\n&amp;gt; Mo...</td>\n",
              "      <td>[]</td>\n",
              "      <td>1248123252</td>\n",
              "      <td>41</td>\n",
              "      <td>1253992905703862272</td>\n",
              "    </tr>\n",
              "    <tr>\n",
              "      <th>3</th>\n",
              "      <td>62687eeae183d99280c6117a</td>\n",
              "      <td>2009-06-26 09:37:39</td>\n",
              "      <td>1254022773858545665</td>\n",
              "      <td>1254022773858545665</td>\n",
              "      <td>RT @gustinicchi: Morti COL Corona non PER il C...</td>\n",
              "      <td>[]</td>\n",
              "      <td>50993809</td>\n",
              "      <td>20</td>\n",
              "      <td>1254010851142569984</td>\n",
              "    </tr>\n",
              "    <tr>\n",
              "      <th>4</th>\n",
              "      <td>62687eeae183d99280c6117b</td>\n",
              "      <td>2016-10-29 11:22:17</td>\n",
              "      <td>1254022774521081856</td>\n",
              "      <td>1254022774521081856</td>\n",
              "      <td>RT @PawanKalyan: Sri ByReddy Rajasekhar Reddy ...</td>\n",
              "      <td>[]</td>\n",
              "      <td>792325679354417152</td>\n",
              "      <td>2181</td>\n",
              "      <td>1253697983343816706</td>\n",
              "    </tr>\n",
              "  </tbody>\n",
              "</table>\n",
              "</div>"
            ],
            "text/plain": [
              "                        _id           created_at              TweetID  \\\n",
              "0  62687eeae183d99280c61177  2017-09-14 13:48:06  1254022772558368768   \n",
              "1  62687eeae183d99280c61178  2019-12-16 18:59:53  1254022772877131777   \n",
              "2  62687eeae183d99280c61179  2013-03-07 07:21:32  1254022773149589510   \n",
              "3  62687eeae183d99280c6117a  2009-06-26 09:37:39  1254022773858545665   \n",
              "4  62687eeae183d99280c6117b  2016-10-29 11:22:17  1254022774521081856   \n",
              "\n",
              "                Id_str                                               Text  \\\n",
              "0  1254022772558368768  RT @BJP4India: India’s war with Corona is ongo...   \n",
              "1  1254022772877131777  RT @schrodingerk42: @ozkan_yalim @DurmusYillma...   \n",
              "2  1254022773149589510  RT @MonstaXEurope: VIDEO | 25.04.20\\n\\n&gt; Mo...   \n",
              "3  1254022773858545665  RT @gustinicchi: Morti COL Corona non PER il C...   \n",
              "4  1254022774521081856  RT @PawanKalyan: Sri ByReddy Rajasekhar Reddy ...   \n",
              "\n",
              "  Hashtag               UserID  Retweet_Count           Retweet_ID  \n",
              "0      []   908326492718764034            340  1253949413191344128  \n",
              "1      []  1206650133976408064             72  1252576316135739392  \n",
              "2      []           1248123252             41  1253992905703862272  \n",
              "3      []             50993809             20  1254010851142569984  \n",
              "4      []   792325679354417152           2181  1253697983343816706  "
            ]
          },
          "execution_count": 6,
          "metadata": {},
          "output_type": "execute_result"
        }
      ],
      "source": [
        "pd.DataFrame(db.tweets_coll.find({}).limit(5))"
      ]
    },
    {
      "cell_type": "markdown",
      "id": "115a5bce",
      "metadata": {
        "id": "115a5bce"
      },
      "source": [
        "### Tweets within daterange"
      ]
    },
    {
      "cell_type": "code",
      "execution_count": null,
      "id": "e61709f8",
      "metadata": {
        "id": "e61709f8"
      },
      "outputs": [],
      "source": [
        "def find_tweets_in_daterange(start_date,end_date):\n",
        "    agg_result = db.tweets_coll.aggregate(\n",
        "        [\n",
        "           {\"$match\":{\"created_at\": { \"$gte\": start_date,\"$lte\": end_date }} },\n",
        "           {\"$limit\":2}\n",
        "        ]\n",
        "    )\n",
        "    \n",
        "    for doc in agg_result:\n",
        "        print(doc)"
      ]
    },
    {
      "cell_type": "code",
      "execution_count": null,
      "id": "c682fa4f",
      "metadata": {
        "id": "c682fa4f",
        "outputId": "e8ecd187-9700-4ce3-ef4e-d33c31268b83"
      },
      "outputs": [
        {
          "name": "stdout",
          "output_type": "stream",
          "text": [
            "{'_id': ObjectId('62687eeae183d99280c6118b'), 'created_at': '2016-12-29 03:47:01', 'TweetID': 1254022787196387329, 'Id_str': '1254022787196387329', 'Text': 'RT @PassionFruit62: The Trump Admin bought at least 29 mil doses of this poison and promoted it daily through press briefings, \\u2066@seanhannit…', 'Hashtag': [], 'UserID': 814316767665418248, 'Retweet_Count': 4, 'Retweet_ID': 1254018062694703106}\n",
            "{'_id': ObjectId('62687eeae183d99280c611e6'), 'created_at': '2016-12-10 17:38:00', 'TweetID': 1254022845233016832, 'Id_str': '1254022845233016832', 'Text': 'RT @lewinskylou2: SCHATTING WERKELIJK AANTAL CORONA-DODEN T/M 25 APRIL\\nWerkelijk aantal = 2 x bevestigd aantal\\n\\n2 x 4.409 = 8.818 overleden…', 'Hashtag': [], 'UserID': 807640520646217728, 'Retweet_Count': 6, 'Retweet_ID': 1254020595920113664}\n"
          ]
        }
      ],
      "source": [
        "find_tweets_in_daterange(\"2016-11-30\",\"2016-12-30\")"
      ]
    },
    {
      "cell_type": "markdown",
      "id": "5d4353bb",
      "metadata": {
        "id": "5d4353bb"
      },
      "source": [
        "### Search with hastags within a daterange"
      ]
    },
    {
      "cell_type": "code",
      "execution_count": null,
      "id": "c8ca69ae",
      "metadata": {
        "id": "c8ca69ae"
      },
      "outputs": [],
      "source": [
        "def hastags_in_daterange(start_date,end_date):\n",
        "    agg_result = db.tweets_coll.aggregate([\n",
        "     {\n",
        "      \"$match\":{\n",
        "        \"$and\":[\n",
        "              {'Hashtag': { '$elemMatch': { '$eq': 'corona'} }},\n",
        "              {\"created_at\": { \"$gte\": start_date,\"$lte\": end_date }}\n",
        "        ]\n",
        "       }},\n",
        "\n",
        "        {\"$limit\":2}\n",
        "    ])\n",
        "\n",
        "    for doc in agg_result:\n",
        "            print(doc)"
      ]
    },
    {
      "cell_type": "code",
      "execution_count": null,
      "id": "31d462fb",
      "metadata": {
        "id": "31d462fb",
        "outputId": "316012e9-6d17-41c6-b02b-1510178d8410"
      },
      "outputs": [
        {
          "name": "stdout",
          "output_type": "stream",
          "text": [
            "{'_id': ObjectId('62687f08e183d99280c6ba34'), 'created_at': '2016-12-08 03:13:54', 'TweetID': 1254049455462068224, 'Id_str': '1254049455462068224', 'Text': 'RT @OKAZ_online: الوطن بخير\\n#عكاظ #ان_تكون_اولا #السعودية #كورونا #رمضان #corona\\nhttps://t.co/3SlA4INXWI https://t.co/gZ0wHwvWoK', 'Hashtag': ['عكاظ', 'ان_تكون_اولا', 'السعودية', 'كورونا', 'رمضان', 'corona'], 'UserID': 806698288045035520, 'Retweet_Count': 22, 'Retweet_ID': 1253815812785418240}\n",
            "{'_id': ObjectId('62687f11e183d99280c6fb34'), 'created_at': '2016-12-10 17:38:00', 'TweetID': 1254059034312876033, 'Id_str': '1254059034312876033', 'Text': 'RT @delangemars: LIVE Protest tegen #corona dictatuur in #Berlin van @Ruptly bekijken\\n\\n#wirsinddasvolk https://t.co/qngB8YInJ0', 'Hashtag': ['corona', 'Berlin', 'wirsinddasvolk'], 'UserID': 807640520646217728, 'Retweet_Count': 5, 'Retweet_ID': 1254054072992309249}\n"
          ]
        }
      ],
      "source": [
        "hastags_in_daterange(\"2016-11-30\",\"2016-12-30\")"
      ]
    },
    {
      "cell_type": "markdown",
      "id": "40a17136",
      "metadata": {
        "id": "40a17136"
      },
      "source": [
        "### Indexing"
      ]
    },
    {
      "cell_type": "code",
      "execution_count": null,
      "id": "101b9c0c",
      "metadata": {
        "id": "101b9c0c",
        "outputId": "5db6ffec-e5d3-4110-b4b2-cbf2d7e4c59b"
      },
      "outputs": [
        {
          "data": {
            "text/html": [
              "<div>\n",
              "<style scoped>\n",
              "    .dataframe tbody tr th:only-of-type {\n",
              "        vertical-align: middle;\n",
              "    }\n",
              "\n",
              "    .dataframe tbody tr th {\n",
              "        vertical-align: top;\n",
              "    }\n",
              "\n",
              "    .dataframe thead th {\n",
              "        text-align: right;\n",
              "    }\n",
              "</style>\n",
              "<table border=\"1\" class=\"dataframe\">\n",
              "  <thead>\n",
              "    <tr style=\"text-align: right;\">\n",
              "      <th></th>\n",
              "      <th>_id_</th>\n",
              "    </tr>\n",
              "  </thead>\n",
              "  <tbody>\n",
              "    <tr>\n",
              "      <th>key</th>\n",
              "      <td>[(_id, 1)]</td>\n",
              "    </tr>\n",
              "    <tr>\n",
              "      <th>v</th>\n",
              "      <td>2</td>\n",
              "    </tr>\n",
              "  </tbody>\n",
              "</table>\n",
              "</div>"
            ],
            "text/plain": [
              "           _id_\n",
              "key  [(_id, 1)]\n",
              "v             2"
            ]
          },
          "execution_count": 11,
          "metadata": {},
          "output_type": "execute_result"
        }
      ],
      "source": [
        "pd.DataFrame(db.tweets_coll.index_information())"
      ]
    },
    {
      "cell_type": "code",
      "execution_count": null,
      "id": "835c4d70",
      "metadata": {
        "id": "835c4d70",
        "outputId": "c6030ce0-aaac-460d-9d10-682e1c8fe51c"
      },
      "outputs": [
        {
          "data": {
            "text/plain": [
              "'created_at_1'"
            ]
          },
          "execution_count": 12,
          "metadata": {},
          "output_type": "execute_result"
        }
      ],
      "source": [
        "db.tweets_coll.create_index(\"TweetID\")\n",
        "db.tweets_coll.create_index(\"UserID\")\n",
        "db.tweets_coll.create_index(\"created_at\")"
      ]
    },
    {
      "cell_type": "code",
      "execution_count": null,
      "id": "909701fe",
      "metadata": {
        "id": "909701fe",
        "outputId": "941a66d9-3016-4fb6-807c-489a020178ed"
      },
      "outputs": [
        {
          "data": {
            "text/html": [
              "<div>\n",
              "<style scoped>\n",
              "    .dataframe tbody tr th:only-of-type {\n",
              "        vertical-align: middle;\n",
              "    }\n",
              "\n",
              "    .dataframe tbody tr th {\n",
              "        vertical-align: top;\n",
              "    }\n",
              "\n",
              "    .dataframe thead th {\n",
              "        text-align: right;\n",
              "    }\n",
              "</style>\n",
              "<table border=\"1\" class=\"dataframe\">\n",
              "  <thead>\n",
              "    <tr style=\"text-align: right;\">\n",
              "      <th></th>\n",
              "      <th>v</th>\n",
              "      <th>key</th>\n",
              "      <th>name</th>\n",
              "    </tr>\n",
              "  </thead>\n",
              "  <tbody>\n",
              "    <tr>\n",
              "      <th>0</th>\n",
              "      <td>2</td>\n",
              "      <td>{'_id': 1}</td>\n",
              "      <td>_id_</td>\n",
              "    </tr>\n",
              "    <tr>\n",
              "      <th>1</th>\n",
              "      <td>2</td>\n",
              "      <td>{'TweetID': 1}</td>\n",
              "      <td>TweetID_1</td>\n",
              "    </tr>\n",
              "    <tr>\n",
              "      <th>2</th>\n",
              "      <td>2</td>\n",
              "      <td>{'UserID': 1}</td>\n",
              "      <td>UserID_1</td>\n",
              "    </tr>\n",
              "    <tr>\n",
              "      <th>3</th>\n",
              "      <td>2</td>\n",
              "      <td>{'created_at': 1}</td>\n",
              "      <td>created_at_1</td>\n",
              "    </tr>\n",
              "  </tbody>\n",
              "</table>\n",
              "</div>"
            ],
            "text/plain": [
              "   v                key          name\n",
              "0  2         {'_id': 1}          _id_\n",
              "1  2     {'TweetID': 1}     TweetID_1\n",
              "2  2      {'UserID': 1}      UserID_1\n",
              "3  2  {'created_at': 1}  created_at_1"
            ]
          },
          "execution_count": 13,
          "metadata": {},
          "output_type": "execute_result"
        }
      ],
      "source": [
        "pd.DataFrame(db.tweets_coll.list_indexes())"
      ]
    },
    {
      "cell_type": "markdown",
      "id": "43cd5dbe",
      "metadata": {
        "id": "43cd5dbe"
      },
      "source": [
        "### Top 10 tweets"
      ]
    },
    {
      "cell_type": "code",
      "execution_count": null,
      "id": "785d1269",
      "metadata": {
        "id": "785d1269"
      },
      "outputs": [],
      "source": [
        ""
      ]
    }
  ],
  "metadata": {
    "colab": {
      "collapsed_sections": [],
      "name": "latest_tweets-NoSQL.ipynb",
      "provenance": []
    },
    "kernelspec": {
      "display_name": "Python 3",
      "language": "python",
      "name": "python3"
    },
    "language_info": {
      "codemirror_mode": {
        "name": "ipython",
        "version": 3
      },
      "file_extension": ".py",
      "mimetype": "text/x-python",
      "name": "python",
      "nbconvert_exporter": "python",
      "pygments_lexer": "ipython3",
      "version": "3.9.5"
    }
  },
  "nbformat": 4,
  "nbformat_minor": 5
}